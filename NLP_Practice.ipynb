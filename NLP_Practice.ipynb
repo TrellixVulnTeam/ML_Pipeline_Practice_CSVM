{
 "cells": [
  {
   "cell_type": "code",
   "execution_count": 24,
   "metadata": {},
   "outputs": [
    {
     "name": "stderr",
     "output_type": "stream",
     "text": [
      "[nltk_data] Downloading package punkt to /Users/ryanneal/nltk_data...\n",
      "[nltk_data]   Package punkt is already up-to-date!\n",
      "[nltk_data] Downloading package wordnet to\n",
      "[nltk_data]     /Users/ryanneal/nltk_data...\n",
      "[nltk_data]   Package wordnet is already up-to-date!\n"
     ]
    }
   ],
   "source": [
    "# download necessary NLTK data\n",
    "import nltk\n",
    "nltk.download(['punkt', 'wordnet'])\n",
    "\n",
    "# import statements\n",
    "import re\n",
    "import pandas as pd\n",
    "import numpy as np\n",
    "from nltk.tokenize import word_tokenize\n",
    "from nltk.stem import WordNetLemmatizer\n",
    "from sklearn.metrics import confusion_matrix\n",
    "from sklearn.model_selection import train_test_split, GridSearchCV\n",
    "from sklearn.feature_extraction.text import CountVectorizer, TfidfTransformer \n",
    "from sklearn.ensemble import RandomForestClassifier\n",
    "from sklearn.pipeline import Pipeline, FeatureUnion\n",
    "from transformer import StartingVerbExtractor"
   ]
  },
  {
   "cell_type": "code",
   "execution_count": 25,
   "metadata": {},
   "outputs": [],
   "source": [
    "def load_data():\n",
    "    df = pd.read_csv('corporate_messaging.csv', encoding='latin-1')\n",
    "    df = df[(df[\"category:confidence\"] == 1) & (df['category'] != 'Exclude')]\n",
    "    X = df.text.values\n",
    "    y = df.category.values\n",
    "    return X, y"
   ]
  },
  {
   "cell_type": "code",
   "execution_count": 26,
   "metadata": {},
   "outputs": [],
   "source": [
    "url_regex = ('http[s]?://(?:[a-zA-Z]|[0-9]|[$-_@.&+]|[!*\\(\\),]|(?:%[0-9a-fA-F][0-9a-fA-F]))+')"
   ]
  },
  {
   "cell_type": "code",
   "execution_count": 27,
   "metadata": {},
   "outputs": [],
   "source": [
    "def tokenize(text):\n",
    "    # get list of all urls using regex\n",
    "    detected_urls = re.findall(url_regex, text)\n",
    "    \n",
    "    # replace each url in text string with placeholder\n",
    "    for url in detected_urls:\n",
    "        text = text.replace(url, \"urlplaceholder\")\n",
    "\n",
    "    # tokenize text\n",
    "    tokens = word_tokenize(text)\n",
    "    \n",
    "    # initiate lemmatizer\n",
    "    lemmatizer = wordnet_lemmatizer = WordNetLemmatizer()\n",
    "\n",
    "    # iterate through each token\n",
    "    clean_tokens = []\n",
    "    for tok in tokens:\n",
    "        \n",
    "        # lemmatize, normalize case, and remove leading/trailing white space\n",
    "        clean_tok = lemmatizer.lemmatize(tok).lower().strip()\n",
    "        clean_tokens.append(clean_tok)\n",
    "\n",
    "    return clean_tokens"
   ]
  },
  {
   "cell_type": "markdown",
   "metadata": {},
   "source": [
    "<h2> Machine Learning Model </h2>"
   ]
  },
  {
   "cell_type": "code",
   "execution_count": 28,
   "metadata": {},
   "outputs": [],
   "source": [
    "def display_results(y_test, y_pred):\n",
    "    labels = np.unique(y_pred)\n",
    "    confusion_mat = confusion_matrix(y_test, y_pred, labels=labels)\n",
    "    accuracy = (y_pred == y_test).mean()\n",
    "\n",
    "    print(\"Labels:\", labels)\n",
    "    print(\"Confusion Matrix:\\n\", confusion_mat)\n",
    "    print(\"Accuracy:\", accuracy)"
   ]
  },
  {
   "cell_type": "code",
   "execution_count": 29,
   "metadata": {},
   "outputs": [],
   "source": [
    "def manual_main():\n",
    "    # load data into model\n",
    "    X, y = load_data()\n",
    "\n",
    "    # perform train test split. Save 30 percent of data for testing.\n",
    "    X_train, X_test, y_train, y_test = train_test_split(X, y, test_size=.3)\n",
    "    \n",
    "    # initialize objects we need\n",
    "    vect = CountVectorizer(tokenizer=tokenize) \n",
    "    tfidf = TfidfTransformer()\n",
    "    clf = RandomForestClassifier()\n",
    "    \n",
    "    # get word counts using count vectorizer\n",
    "    X_train_word_count = vect.fit_transform(X_train)\n",
    "    # calculate word frequency using tfidf and count vector results\n",
    "    tfidf_train = tfidf.fit_transform(X_train_word_count)\n",
    "    # fit with a random forest model\n",
    "    clf.fit(tfidf_train, y_train)\n",
    "    \n",
    "    # Transform test data\n",
    "    X_test_word_count = vect.transform(X_test)\n",
    "    tfidf_test = tfidf.transform(X_test_word_count)\n",
    "    #predict y value with random forest model\n",
    "    y_pred = clf.predict(tfidf_test)\n",
    "    \n",
    "    display_results(y_test, y_pred)"
   ]
  },
  {
   "cell_type": "code",
   "execution_count": 30,
   "metadata": {},
   "outputs": [],
   "source": [
    " pipeline = Pipeline([(\"features\", FeatureUnion(\n",
    "        [\n",
    "            (\"nlp_pipeline\", Pipeline([\n",
    "                ('vect', CountVectorizer()),\n",
    "                ('tfidf', TfidfTransformer()),\n",
    "            ])),\n",
    "            (\"text_len\", StartingVerbExtractor()),\n",
    "        ])),\n",
    "    (\"clf\", RandomForestClassifier())])"
   ]
  },
  {
   "cell_type": "code",
   "execution_count": 31,
   "metadata": {},
   "outputs": [
    {
     "data": {
      "text/plain": [
       "{'memory': None,\n",
       " 'steps': [('features',\n",
       "   FeatureUnion(transformer_list=[('nlp_pipeline',\n",
       "                                   Pipeline(steps=[('vect', CountVectorizer()),\n",
       "                                                   ('tfidf',\n",
       "                                                    TfidfTransformer())])),\n",
       "                                  ('text_len', StartingVerbExtractor())])),\n",
       "  ('clf', RandomForestClassifier())],\n",
       " 'verbose': False,\n",
       " 'features': FeatureUnion(transformer_list=[('nlp_pipeline',\n",
       "                                 Pipeline(steps=[('vect', CountVectorizer()),\n",
       "                                                 ('tfidf',\n",
       "                                                  TfidfTransformer())])),\n",
       "                                ('text_len', StartingVerbExtractor())]),\n",
       " 'clf': RandomForestClassifier(),\n",
       " 'features__n_jobs': None,\n",
       " 'features__transformer_list': [('nlp_pipeline',\n",
       "   Pipeline(steps=[('vect', CountVectorizer()), ('tfidf', TfidfTransformer())])),\n",
       "  ('text_len', StartingVerbExtractor())],\n",
       " 'features__transformer_weights': None,\n",
       " 'features__verbose': False,\n",
       " 'features__nlp_pipeline': Pipeline(steps=[('vect', CountVectorizer()), ('tfidf', TfidfTransformer())]),\n",
       " 'features__text_len': StartingVerbExtractor(),\n",
       " 'features__nlp_pipeline__memory': None,\n",
       " 'features__nlp_pipeline__steps': [('vect', CountVectorizer()),\n",
       "  ('tfidf', TfidfTransformer())],\n",
       " 'features__nlp_pipeline__verbose': False,\n",
       " 'features__nlp_pipeline__vect': CountVectorizer(),\n",
       " 'features__nlp_pipeline__tfidf': TfidfTransformer(),\n",
       " 'features__nlp_pipeline__vect__analyzer': 'word',\n",
       " 'features__nlp_pipeline__vect__binary': False,\n",
       " 'features__nlp_pipeline__vect__decode_error': 'strict',\n",
       " 'features__nlp_pipeline__vect__dtype': numpy.int64,\n",
       " 'features__nlp_pipeline__vect__encoding': 'utf-8',\n",
       " 'features__nlp_pipeline__vect__input': 'content',\n",
       " 'features__nlp_pipeline__vect__lowercase': True,\n",
       " 'features__nlp_pipeline__vect__max_df': 1.0,\n",
       " 'features__nlp_pipeline__vect__max_features': None,\n",
       " 'features__nlp_pipeline__vect__min_df': 1,\n",
       " 'features__nlp_pipeline__vect__ngram_range': (1, 1),\n",
       " 'features__nlp_pipeline__vect__preprocessor': None,\n",
       " 'features__nlp_pipeline__vect__stop_words': None,\n",
       " 'features__nlp_pipeline__vect__strip_accents': None,\n",
       " 'features__nlp_pipeline__vect__token_pattern': '(?u)\\\\b\\\\w\\\\w+\\\\b',\n",
       " 'features__nlp_pipeline__vect__tokenizer': None,\n",
       " 'features__nlp_pipeline__vect__vocabulary': None,\n",
       " 'features__nlp_pipeline__tfidf__norm': 'l2',\n",
       " 'features__nlp_pipeline__tfidf__smooth_idf': True,\n",
       " 'features__nlp_pipeline__tfidf__sublinear_tf': False,\n",
       " 'features__nlp_pipeline__tfidf__use_idf': True,\n",
       " 'clf__bootstrap': True,\n",
       " 'clf__ccp_alpha': 0.0,\n",
       " 'clf__class_weight': None,\n",
       " 'clf__criterion': 'gini',\n",
       " 'clf__max_depth': None,\n",
       " 'clf__max_features': 'auto',\n",
       " 'clf__max_leaf_nodes': None,\n",
       " 'clf__max_samples': None,\n",
       " 'clf__min_impurity_decrease': 0.0,\n",
       " 'clf__min_impurity_split': None,\n",
       " 'clf__min_samples_leaf': 1,\n",
       " 'clf__min_samples_split': 2,\n",
       " 'clf__min_weight_fraction_leaf': 0.0,\n",
       " 'clf__n_estimators': 100,\n",
       " 'clf__n_jobs': None,\n",
       " 'clf__oob_score': False,\n",
       " 'clf__random_state': None,\n",
       " 'clf__verbose': 0,\n",
       " 'clf__warm_start': False}"
      ]
     },
     "execution_count": 31,
     "metadata": {},
     "output_type": "execute_result"
    }
   ],
   "source": [
    "pipeline.get_params()"
   ]
  },
  {
   "cell_type": "code",
   "execution_count": 32,
   "metadata": {},
   "outputs": [],
   "source": [
    "def model_pipeline():\n",
    "    # build pipeline\n",
    "    pipeline = Pipeline([(\"features\", FeatureUnion(\n",
    "        [\n",
    "            (\"nlp_pipeline\", Pipeline([\n",
    "                ('vect', CountVectorizer()),\n",
    "                ('tfidf', TfidfTransformer()),\n",
    "            ])),\n",
    "            (\"text_len\", StartingVerbExtractor()),\n",
    "        ])),\n",
    "    (\"clf\", RandomForestClassifier())])\n",
    "    \n",
    "    # specify parameters for grid search\n",
    "    parameters = {\n",
    "        'features__nlp_pipeline__tfidf__smooth_idf': [True, False],\n",
    "        'clf__max_depth': [1, 2, 4, 16, 32, 64, 128],\n",
    "        'clf__n_estimators': [10, 50, 100, 200, 400, 800, 1600, 3200]\n",
    "    }\n",
    "\n",
    "    # create grid search object\n",
    "    cv = GridSearchCV(pipeline, param_grid=parameters) \n",
    "    \n",
    "    return cv"
   ]
  },
  {
   "cell_type": "code",
   "execution_count": 33,
   "metadata": {},
   "outputs": [],
   "source": [
    "def main():\n",
    "    X, y = load_data()\n",
    "    X_train, X_test, y_train, y_test = train_test_split(X, y)\n",
    "\n",
    "    model = model_pipeline()\n",
    "    model.fit(X_train, y_train)\n",
    "    y_pred = model.predict(X_test)\n",
    "\n",
    "    display_results(y_test, y_pred)"
   ]
  },
  {
   "cell_type": "code",
   "execution_count": 34,
   "metadata": {},
   "outputs": [
    {
     "name": "stdout",
     "output_type": "stream",
     "text": [
      "Labels: ['Action' 'Dialogue' 'Information']\n",
      "Confusion Matrix:\n",
      " [[ 91   0  19]\n",
      " [  1  20   3]\n",
      " [  6   0 461]]\n",
      "Accuracy: 0.9517470881863561\n"
     ]
    }
   ],
   "source": [
    "main()"
   ]
  },
  {
   "cell_type": "code",
   "execution_count": null,
   "metadata": {},
   "outputs": [],
   "source": []
  }
 ],
 "metadata": {
  "kernelspec": {
   "display_name": "ml-pipeline",
   "language": "python",
   "name": "ml-pipeline"
  },
  "language_info": {
   "codemirror_mode": {
    "name": "ipython",
    "version": 3
   },
   "file_extension": ".py",
   "mimetype": "text/x-python",
   "name": "python",
   "nbconvert_exporter": "python",
   "pygments_lexer": "ipython3",
   "version": "3.7.7"
  }
 },
 "nbformat": 4,
 "nbformat_minor": 4
}
